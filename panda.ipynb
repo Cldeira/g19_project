{
 "cells": [
  {
   "cell_type": "code",
   "execution_count": 37,
   "metadata": {
    "id": "B5IExomN_a9k"
   },
   "outputs": [
    {
     "data": {
      "text/plain": [
       "1200"
      ]
     },
     "execution_count": 37,
     "metadata": {},
     "output_type": "execute_result"
    }
   ],
   "source": [
    "import pandas as pd\n",
    "import sqlite3\n",
    "\n",
    "df = pd.read_csv('data/G19_PublishingAuthors_Books_with_Literary_Awards_merged.csv', sep=';')\n",
    "\n",
    "# New Section\n",
    "\n",
    "co = sqlite3.connect('data/Publishing.db')\n",
    "\n",
    "df.to_sql('G19_Publishing', co, if_exists='replace', index=False)\n",
    "\n",
    "colunas_Author = ['authors_id','authors_name','nationality','birth_year','royalty_percentage']\n",
    "df_Author = df[colunas_Author]\n",
    "df_Author.to_sql('Author', co, if_exists='replace', index=False)\n",
    "\n",
    "colunas_Books = ['books_id','books_title','genre','publication_year']\n",
    "df_Books = df[colunas_Books]\n",
    "df_Books.to_sql('Books', co, if_exists='replace', index=False)\n",
    "\n",
    "colunas_Awards = ['awards_id','award_name']\n",
    "df_Awards = df[colunas_Awards]\n",
    "df_Awards.to_sql('Awards', co, if_exists='replace', index=False)\n",
    "\n",
    "colunas_Books_Awards = ['awards_id', 'books_id', 'year']\n",
    "df_Books_Awards = df[colunas_Books_Awards].copy() \n",
    "df_Books_Awards[\"id\"] = range(1, len(df_Books_Awards) + 1)\n",
    "colunas_Books_Awards = ['id', 'awards_id', 'books_id', 'year']\n",
    "df_Books_Awards = df_Books_Awards[colunas_Books_Awards]\n",
    "df_Books_Awards.to_sql('Books_Awards', co, if_exists='replace', index=False)\n",
    "\n"
   ]
  },
  {
   "cell_type": "code",
   "execution_count": 43,
   "metadata": {},
   "outputs": [
    {
     "name": "stdout",
     "output_type": "stream",
     "text": [
      "Tabelas no banco de dados: [('G19_Publishing',), ('Author',), ('Books',), ('Awards',), ('Books_Awards',)]\n",
      "Estrutura da tabela 'Books_Awards': [(0, 'id', 'INTEGER', 0, None, 0), (1, 'awards_id', 'INTEGER', 0, None, 0), (2, 'books_id', 'INTEGER', 0, None, 0), (3, 'year', 'INTEGER', 0, None, 0)]\n"
     ]
    }
   ],
   "source": [
    "import sqlite3\n",
    "\n",
    "co = sqlite3.connect('data/Publishing.db')\n",
    "cursor = co.cursor()\n",
    "\n",
    "# Verifique todas as tabelas no banco de dados\n",
    "cursor.execute(\"SELECT name FROM sqlite_master WHERE type='table';\")\n",
    "tables = cursor.fetchall()\n",
    "print(\"Tabelas no banco de dados:\", tables)\n",
    "\n",
    "# Verifique a estrutura da tabela 'Author'\n",
    "cursor.execute(\"PRAGMA table_info(Books_Awards);\")\n",
    "columns = cursor.fetchall()\n",
    "print(\"Estrutura da tabela 'Books_Awards':\", columns)\n",
    "\n",
    "co.close()"
   ]
  },
  {
   "cell_type": "code",
   "execution_count": 41,
   "metadata": {},
   "outputs": [
    {
     "name": "stdout",
     "output_type": "stream",
     "text": [
      "Dados na tabela 'Author': [(302, 'Dawn Nelson', 'Canada', 1994, 1.8), (78, 'Darlene Perez', 'USA', 1960, 0.16), (286, 'Molly Thompson', 'Australia', 1964, 4.91), (121, 'Terri Garcia', 'Canada', 1983, 4.43), (1, 'David Richardson', 'UK', 1965, 8.35)]\n"
     ]
    }
   ],
   "source": [
    "import sqlite3\n",
    "\n",
    "co = sqlite3.connect('data/Publishing.db')\n",
    "cursor = co.cursor()\n",
    "\n",
    "# Verifique se há dados na tabela Author\n",
    "cursor.execute(\"SELECT * FROM Author LIMIT 5;\")\n",
    "rows = cursor.fetchall()\n",
    "print(\"Dados na tabela 'Author':\", rows)\n",
    "\n",
    "co.close()"
   ]
  },
  {
   "cell_type": "code",
   "execution_count": null,
   "metadata": {},
   "outputs": [],
   "source": []
  }
 ],
 "metadata": {
  "colab": {
   "authorship_tag": "ABX9TyOOIM/TCJZCP04jVX05+yNe",
   "provenance": []
  },
  "kernelspec": {
   "display_name": "Python [conda env:base] *",
   "language": "python",
   "name": "conda-base-py"
  },
  "language_info": {
   "codemirror_mode": {
    "name": "ipython",
    "version": 3
   },
   "file_extension": ".py",
   "mimetype": "text/x-python",
   "name": "python",
   "nbconvert_exporter": "python",
   "pygments_lexer": "ipython3",
   "version": "3.12.3"
  }
 },
 "nbformat": 4,
 "nbformat_minor": 4
}
